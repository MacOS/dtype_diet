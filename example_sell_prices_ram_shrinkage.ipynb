{
 "cells": [
  {
   "cell_type": "markdown",
   "metadata": {},
   "source": [
    "# Using data taken from Kaggle m5-uncertainty competition\n",
    "\n",
    "Source data: https://www.kaggle.com/c/m5-forecasting-uncertainty/\n",
    "Due to Kaggle's license, you need to download the data yourself."
   ]
  },
  {
   "cell_type": "code",
   "execution_count": null,
   "metadata": {},
   "outputs": [],
   "source": [
    "#slow\n",
    "import pandas as pd\n",
    "import dtype_diet\n",
    "df = pd.read_csv('sell_prices.csv')"
   ]
  },
  {
   "cell_type": "markdown",
   "metadata": {},
   "source": [
    "## Original dataframe with default dtypes takes 957MB"
   ]
  },
  {
   "cell_type": "code",
   "execution_count": null,
   "metadata": {},
   "outputs": [
    {
     "name": "stdout",
     "output_type": "stream",
     "text": [
      "<class 'pandas.core.frame.DataFrame'>\n",
      "RangeIndex: 6841121 entries, 0 to 6841120\n",
      "Data columns (total 4 columns):\n",
      " #   Column      Dtype  \n",
      "---  ------      -----  \n",
      " 0   store_id    object \n",
      " 1   item_id     object \n",
      " 2   wm_yr_wk    int64  \n",
      " 3   sell_price  float64\n",
      "dtypes: float64(1), int64(1), object(2)\n",
      "memory usage: 957.5 MB\n"
     ]
    }
   ],
   "source": [
    "#slow\n",
    "df.info(memory_usage=\"deep\")"
   ]
  },
  {
   "cell_type": "markdown",
   "metadata": {},
   "source": [
    "## Report on possible `dtype` changes"
   ]
  },
  {
   "cell_type": "code",
   "execution_count": null,
   "metadata": {},
   "outputs": [
    {
     "name": "stdout",
     "output_type": "stream",
     "text": [
      "Smallest non-breaking converstion per column:\n",
      "store_id (object) currently taking 417,308,509 bytes, to save 410,466,330 bytes try `store_id.astype(category)`\n",
      "item_id (object) currently taking 477,265,874 bytes, to save 463,288,934 bytes try `item_id.astype(category)`\n",
      "wm_yr_wk (int64) currently taking 54,729,096 bytes, to save 41,046,726 bytes try `wm_yr_wk.astype(int16)`\n",
      "sell_price (float64) currently taking 54,729,096 bytes - no suggestion\n"
     ]
    }
   ],
   "source": [
    "#slow\n",
    "# dtype_diet.report_on_dataframe(df)"
   ]
  },
  {
   "cell_type": "markdown",
   "metadata": {},
   "source": [
    "## Apply changes for a 10x memory reduction to 85MB"
   ]
  },
  {
   "cell_type": "code",
   "execution_count": null,
   "metadata": {},
   "outputs": [
    {
     "name": "stdout",
     "output_type": "stream",
     "text": [
      "<class 'pandas.core.frame.DataFrame'>\n",
      "RangeIndex: 6841121 entries, 0 to 6841120\n",
      "Data columns (total 4 columns):\n",
      " #   Column      Dtype   \n",
      "---  ------      -----   \n",
      " 0   store_id    category\n",
      " 1   item_id     category\n",
      " 2   wm_yr_wk    int16   \n",
      " 3   sell_price  float64 \n",
      "dtypes: category(2), float64(1), int16(1)\n",
      "memory usage: 85.1 MB\n"
     ]
    }
   ],
   "source": [
    "#slow\n",
    "df2 = df.copy()\n",
    "df2['store_id'] = df2['store_id'].astype('category')\n",
    "df2['item_id'] = df2['item_id'].astype('category')\n",
    "df2['wm_yr_wk'] = df2['wm_yr_wk'].astype('int16')\n",
    "df2.info(memory_usage=\"deep\")"
   ]
  }
 ],
 "metadata": {
  "kernelspec": {
   "display_name": "Python 3",
   "language": "python",
   "name": "python3"
  }
 },
 "nbformat": 4,
 "nbformat_minor": 4
}
